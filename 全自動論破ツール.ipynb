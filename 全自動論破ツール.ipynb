{
  "nbformat": 4,
  "nbformat_minor": 0,
  "metadata": {
    "colab": {
      "name": "全自動論破ツール",
      "provenance": [],
      "authorship_tag": "ABX9TyO0JaIqUbbTQtiZvVUGompt",
      "include_colab_link": true
    },
    "kernelspec": {
      "name": "python3",
      "display_name": "Python 3"
    },
    "language_info": {
      "name": "python"
    }
  },
  "cells": [
    {
      "cell_type": "markdown",
      "metadata": {
        "id": "view-in-github",
        "colab_type": "text"
      },
      "source": [
        "<a href=\"https://colab.research.google.com/github/chickenkundayo/-/blob/main/%E5%85%A8%E8%87%AA%E5%8B%95%E8%AB%96%E7%A0%B4%E3%83%84%E3%83%BC%E3%83%AB.ipynb\" target=\"_parent\"><img src=\"https://colab.research.google.com/assets/colab-badge.svg\" alt=\"Open In Colab\"/></a>"
      ]
    },
    {
      "cell_type": "markdown",
      "metadata": {
        "id": "Rkiz1WEIb-Me"
      },
      "source": [
        "プログラムを実行して出力されたフレーズを言うことで相手を論破することが可能です。討論などになった際にお使いください。（全ての場合で論破できることを保証するものではありません）"
      ]
    },
    {
      "cell_type": "code",
      "metadata": {
        "id": "5asktM5zlYv0"
      },
      "source": [
        "import random\n",
        "\n",
        "phrase = [\n",
        "            \"はいかいいえで答えてくださいっ！\"   if i < 2 else\n",
        "            \"それ明らかじゃなくてあなたの感想ですよねw\"   if 2 <= i < 10 else\n",
        "            \"なんだろう、嘘つくのやめてもらっていいですか？w\"   if 10 <= i < 20 else\n",
        "            \"なんすかクソームって？\"     if 20 <= i < 40 else\n",
        "            \"嘘は嘘であると見抜ける人でないと(Chsomebookを使うのは)難しい\"   if 40 <= i < 50 else\n",
        "            \"それはそうとしか考えられない彼の知能の問題なんじゃないですか\"     if 50 <= i < 55 else\n",
        "            \"なんかそういうデータあるんですか？\"   if 55 <= i < 59 else\n",
        "            \"「違います」って言われても僕の方が詳しいと思うんですよw\"   for i in range(61)\n",
        "           ]\n",
        "\n",
        "print(random.choice(phrase))"
      ],
      "execution_count": null,
      "outputs": []
    }
  ]
}